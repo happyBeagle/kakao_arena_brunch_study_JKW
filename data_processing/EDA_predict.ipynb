{
 "nbformat": 4,
 "nbformat_minor": 0,
 "metadata": {
  "colab": {
   "name": "EDA_predict.ipynb",
   "provenance": [],
   "collapsed_sections": []
  },
  "kernelspec": {
   "name": "python3",
   "display_name": "Python 3"
  }
 },
 "cells": [
  {
   "cell_type": "markdown",
   "metadata": {
    "id": "h0hZdISTTFiY"
   },
   "source": [
    "# 라이브러리 추가"
   ]
  },
  {
   "cell_type": "code",
   "metadata": {
    "id": "D28XMwpERi4K",
    "executionInfo": {
     "status": "ok",
     "timestamp": 1612840740646,
     "user_tz": -540,
     "elapsed": 1675,
     "user": {
      "displayName": "­김남혁 | 서울 수학과",
      "photoUrl": "",
      "userId": "02425184354385406709"
     }
    }
   },
   "source": [
    "import pandas as pd\n",
    "import os\n",
    "import sys"
   ],
   "execution_count": 1,
   "outputs": []
  },
  {
   "cell_type": "markdown",
   "metadata": {
    "id": "9n-N7qVeTUiZ"
   },
   "source": [
    "# 파일 읽어오기   \n",
    "* 파일 경로를 가져온다.\n",
    "    * 만약 google drive를 통해 파일을 가져온다면 아래와 같이 파일 경로를 찾아 오자.\n",
    "    * `!find /content/drive/MyDrive/ -name predict*`"
   ]
  },
  {
   "cell_type": "code",
   "metadata": {
    "colab": {
     "base_uri": "https://localhost:8080/"
    },
    "id": "aAQvFX9wT9yF",
    "executionInfo": {
     "status": "ok",
     "timestamp": 1612841139756,
     "user_tz": -540,
     "elapsed": 3230,
     "user": {
      "displayName": "­김남혁 | 서울 수학과",
      "photoUrl": "",
      "userId": "02425184354385406709"
     }
    },
    "outputId": "284383cc-8dc8-44eb-d48b-8f77eb9fcd39"
   },
   "source": [
    "file_path = input(\"file path plz :)(predict/dev.users) >>\")\n",
    "dev_users_data = []\n",
    "\n",
    "with open(file_path, 'r') as f:\n",
    "    for line in f:\n",
    "        line = line.strip()\n",
    "        dev_users_data.append(line)\n",
    "\n",
    "len(dev_users_data)"
   ],
   "execution_count": 12,
   "outputs": [
    {
     "output_type": "stream",
     "text": [
      "file path plz :)(predict/dev.users) >>/content/drive/My Drive/한양대학교/브런치 사용자를 위한 글 추천 대회/data/predict/dev.users\n"
     ],
     "name": "stdout"
    },
    {
     "output_type": "execute_result",
     "data": {
      "text/plain": [
       "3000"
      ]
     },
     "metadata": {
      "tags": []
     },
     "execution_count": 12
    }
   ]
  },
  {
   "cell_type": "code",
   "metadata": {
    "colab": {
     "base_uri": "https://localhost:8080/"
    },
    "id": "EZPxail20UQU",
    "executionInfo": {
     "status": "ok",
     "timestamp": 1612841151610,
     "user_tz": -540,
     "elapsed": 2889,
     "user": {
      "displayName": "­김남혁 | 서울 수학과",
      "photoUrl": "",
      "userId": "02425184354385406709"
     }
    },
    "outputId": "38b2cf6a-f970-4fcc-b2d1-97b3b204d607"
   },
   "source": [
    "file_path = input(\"file path plz :)(predict/test.users) >>\")\n",
    "test_users_data = []\n",
    "\n",
    "with open(file_path, 'r') as f:\n",
    "    for line in f:\n",
    "        line = line.strip()\n",
    "        test_users_data.append(line)\n",
    "\n",
    "len(test_users_data)"
   ],
   "execution_count": 13,
   "outputs": [
    {
     "output_type": "stream",
     "text": [
      "file path plz :)(predict/dev.users) >>/content/drive/My Drive/한양대학교/브런치 사용자를 위한 글 추천 대회/data/predict/test.users\n"
     ],
     "name": "stdout"
    },
    {
     "output_type": "execute_result",
     "data": {
      "text/plain": [
       "5000"
      ]
     },
     "metadata": {
      "tags": []
     },
     "execution_count": 13
    }
   ]
  },
  {
   "cell_type": "markdown",
   "metadata": {
    "id": "xpLSS7zkDxWs"
   },
   "source": [
    "* predict 디렉토리: 예측할 사용자 정보\n",
    "\n",
    "  * dev.users: 개발 데이터입니다. 대회 기간에 예측한 성능을 평가하기 위해 제공한 사용자 3,000명 리스트입니다.\n",
    "  * test.users: 평가 데이터입니다. 대회 종료 후 최종 순위를 결정하기 위해 제공한 사용자 5,000명의 리스트입니다.\n",
    "  * 일부 사용자는 2018년 10월 1일부터 2019년 3월 1일까지 본 글이 없을 수도 있습니다.\n"
   ]
  }
 ]
}